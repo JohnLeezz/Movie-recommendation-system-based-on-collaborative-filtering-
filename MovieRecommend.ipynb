{
 "cells": [
  {
   "cell_type": "code",
   "execution_count": 1,
   "metadata": {
    "collapsed": false
   },
   "outputs": [],
   "source": [
    "global Path\n",
    "if sc.master[0:5] == \"local\":\n",
    "    Path = \"file:/home/hduser/pythonwork/PythonProject/\"\n",
    "else:\n",
    "    Path=\"hdfs://master:9000/user/hduser/\""
   ]
  },
  {
   "cell_type": "code",
   "execution_count": 2,
   "metadata": {
    "collapsed": false
   },
   "outputs": [
    {
     "data": {
      "text/plain": [
       "[[u'196', u'242', u'3', u'881250949'],\n",
       " [u'186', u'302', u'3', u'891717742'],\n",
       " [u'22', u'377', u'1', u'878887116'],\n",
       " [u'244', u'51', u'2', u'880606923'],\n",
       " [u'166', u'346', u'1', u'886397596']]"
      ]
     },
     "execution_count": 2,
     "metadata": {},
     "output_type": "execute_result"
    }
   ],
   "source": [
    "rawData=sc.textFile(Path+\"data/u.data\")\n",
    "rawData.count()\n",
    "rawRatings = rawData.map(lambda x: x.split('\\t'))\n",
    "rawRatings.take(5)\n",
    "#数据分别是userId，itemId，rating和timestamp"
   ]
  },
  {
   "cell_type": "code",
   "execution_count": 3,
   "metadata": {
    "collapsed": false,
    "scrolled": true
   },
   "outputs": [
    {
     "name": "stdout",
     "output_type": "stream",
     "text": [
      "[Rating(user=196, product=242, rating=3.0), Rating(user=186, product=302, rating=3.0), Rating(user=22, product=377, rating=1.0), Rating(user=244, product=51, rating=2.0), Rating(user=166, product=346, rating=1.0)]\n"
     ]
    }
   ],
   "source": [
    "from pyspark.mllib.recommendation import Rating, ALS\n",
    "ratings = rawRatings.map(lambda x: Rating(int(x[0]),int(x[1]),float(x[2])))\n",
    "print ratings.take(5)"
   ]
  },
  {
   "cell_type": "code",
   "execution_count": 4,
   "metadata": {
    "collapsed": false
   },
   "outputs": [
    {
     "name": "stdout",
     "output_type": "stream",
     "text": [
      "[(1, array('d', [-0.443621963262558, 0.15249183773994446, 0.00809907354414463, -0.03659500181674957, -0.30182206630706787, 0.06949819624423981, 0.5772250890731812, 0.1486252397298813, 0.13663265109062195, -0.08983384072780609, 0.11645139753818512, -0.2169293314218521, -0.20583516359329224, -0.17131078243255615, -0.24830088019371033, 0.3039054572582245, 0.7691220641136169, -0.041732169687747955, -0.09908940643072128, -0.19435235857963562, 0.16314193606376648, 0.2806546986103058, -0.42302682995796204, 0.22267131507396698, 0.20781876146793365, -0.8825811147689819, -0.4703618884086609, -0.4223354458808899, 0.2070450782775879, 0.14437542855739594, -0.23625843226909637, 0.2147342413663864, 0.15590961277484894, 0.17372895777225494, -0.21592241525650024, -0.42611828446388245, -0.6725453734397888, 0.585101842880249, 1.0138194561004639, -0.16314949095249176, 0.03775069862604141, 0.02394452691078186, -0.32906123995780945, -0.35081127285957336, 0.13963407278060913, 0.32947900891304016, -0.14239943027496338, -0.1343337893486023, -0.5659365057945251, -0.13367906212806702])), (2, array('d', [-0.6552549600601196, -0.03818874806165695, 0.5234886407852173, 0.013273193500936031, -0.05351226031780243, 0.13496042788028717, 0.3550895154476166, -0.037228818982839584, -0.3597325086593628, 0.3519912362098694, -0.18272924423217773, 0.08134874701499939, 0.29776203632354736, 0.3651415705680847, -0.32601508498191833, -0.1026068851351738, 0.13826073706150055, 0.7489117383956909, 0.12362092733383179, -0.02425052598118782, -0.5189794301986694, -0.48090556263923645, 0.23478518426418304, 0.25709694623947144, 0.149031862616539, -0.1911742389202118, -0.07292554527521133, 0.03708673641085625, 0.2943260967731476, -0.015818698331713676, -0.5212110280990601, 0.9795565009117126, -0.16530096530914307, 0.8192235827445984, 0.2002323567867279, -0.5490319132804871, -0.5626887679100037, 0.5560438632965088, -0.25840622186660767, 0.02968968264758587, -0.22225937247276306, -0.2719632685184479, -0.37617000937461853, 0.01259166095405817, -0.08922714740037918, -0.3398516774177551, -0.0491868294775486, -0.5098494291305542, 0.010365822352468967, 0.20664066076278687]))]\n"
     ]
    }
   ],
   "source": [
    "model = ALS.train(ratings, 50, 10, 0.01)\n",
    "userFeatures = model.userFeatures()\n",
    "print userFeatures.take(2)"
   ]
  },
  {
   "cell_type": "code",
   "execution_count": 5,
   "metadata": {
    "collapsed": false
   },
   "outputs": [
    {
     "name": "stdout",
     "output_type": "stream",
     "text": [
      "943\n",
      "1682\n"
     ]
    }
   ],
   "source": [
    "print model.userFeatures().count()\n",
    "print model.productFeatures().count()"
   ]
  },
  {
   "cell_type": "code",
   "execution_count": 6,
   "metadata": {
    "collapsed": false
   },
   "outputs": [
    {
     "name": "stdout",
     "output_type": "stream",
     "text": [
      "50\n",
      "4.31839875801\n"
     ]
    }
   ],
   "source": [
    "print len(userFeatures.first()[1])\n",
    "predictRating = model.predict(789,123)\n",
    "print predictRating"
   ]
  },
  {
   "cell_type": "code",
   "execution_count": 7,
   "metadata": {
    "collapsed": false
   },
   "outputs": [
    {
     "name": "stdout",
     "output_type": "stream",
     "text": [
      "给用户userId推荐其喜欢的item：\n",
      "Rating(user=789, product=172, rating=5.19974443214813)\n",
      "Rating(user=789, product=346, rating=5.162575607683306)\n",
      "Rating(user=789, product=185, rating=5.142733419050042)\n",
      "Rating(user=789, product=192, rating=5.133010997968043)\n",
      "Rating(user=789, product=182, rating=5.054696635700444)\n",
      "Rating(user=789, product=176, rating=5.040063007047221)\n",
      "Rating(user=789, product=127, rating=5.0355258478983025)\n",
      "Rating(user=789, product=475, rating=5.014262470018285)\n",
      "Rating(user=789, product=276, rating=4.9788931075075595)\n",
      "Rating(user=789, product=129, rating=4.966722970892586)\n"
     ]
    }
   ],
   "source": [
    "topKRecs = model.recommendProducts(789,10)\n",
    "print '给用户userId推荐其喜欢的item：'\n",
    "for rec in topKRecs:\n",
    "    print rec"
   ]
  },
  {
   "cell_type": "code",
   "execution_count": 8,
   "metadata": {
    "collapsed": false,
    "scrolled": true
   },
   "outputs": [
    {
     "name": "stdout",
     "output_type": "stream",
     "text": [
      "用户对33部电影进行了评级\n",
      "源数据中用户(userId=789)喜欢的电影(item)：\n",
      "127\n",
      "475\n",
      "9\n",
      "50\n",
      "150\n",
      "276\n",
      "129\n",
      "100\n",
      "741\n",
      "1012\n",
      "93\n",
      "293\n",
      "181\n",
      "1008\n",
      "508\n",
      "1007\n",
      "124\n",
      "1161\n",
      "294\n",
      "1\n",
      "284\n",
      "1017\n",
      "111\n",
      "742\n",
      "248\n",
      "249\n",
      "591\n",
      "288\n",
      "762\n",
      "628\n",
      "137\n",
      "151\n",
      "286\n"
     ]
    }
   ],
   "source": [
    "moviesForUser = ratings.groupBy(lambda x : x.user).mapValues(list).lookup(789)\n",
    "print '用户对%d部电影进行了评级'%len(moviesForUser[0])\n",
    "print '源数据中用户(userId=789)喜欢的电影(item)：'\n",
    "for i in sorted(moviesForUser[0],key=lambda x : x.rating,reverse=True):\n",
    "    print i.product"
   ]
  },
  {
   "cell_type": "code",
   "execution_count": 10,
   "metadata": {
    "collapsed": false
   },
   "outputs": [
    {
     "name": "stdout",
     "output_type": "stream",
     "text": [
      "Toy Story (1995)\n"
     ]
    }
   ],
   "source": [
    "movies = sc.textFile(Path+\"data/u.item\")\n",
    "titles = movies.map(lambda line: (int(line.split('|')[0]),line.split('|')[1])).collectAsMap()\n",
    "print titles[1]"
   ]
  },
  {
   "cell_type": "code",
   "execution_count": 11,
   "metadata": {
    "collapsed": false
   },
   "outputs": [
    {
     "name": "stdout",
     "output_type": "stream",
     "text": [
      "rank:0 Empire Strikes Back, The (1980):5.19974443215\n",
      "rank:1 Jackie Brown (1997):5.16257560768\n",
      "rank:2 Psycho (1960):5.14273341905\n",
      "rank:3 Raging Bull (1980):5.13301099797\n",
      "rank:4 GoodFellas (1990):5.0546966357\n",
      "rank:5 Aliens (1986):5.04006300705\n",
      "rank:6 Godfather, The (1972):5.0355258479\n",
      "rank:7 Trainspotting (1996):5.01426247002\n",
      "rank:8 Leaving Las Vegas (1995):4.97889310751\n",
      "rank:9 Bound (1996):4.96672297089\n"
     ]
    }
   ],
   "source": [
    "for i,rec in enumerate(topKRecs):\n",
    "    print 'rank:'+str(i)+' '+str(titles[rec.product])+':'+str(rec.rating)"
   ]
  },
  {
   "cell_type": "code",
   "execution_count": 12,
   "metadata": {
    "collapsed": false
   },
   "outputs": [
    {
     "name": "stdout",
     "output_type": "stream",
     "text": [
      "1.0\n"
     ]
    }
   ],
   "source": [
    "import numpy as np\n",
    "def cosineSImilarity(x,y):\n",
    "    return np.dot(x,y)/(np.linalg.norm(x)*np.linalg.norm(y))\n",
    "testx = np.array([1.0,2.0,3.0])\n",
    "print cosineSImilarity(testx,testx)"
   ]
  },
  {
   "cell_type": "code",
   "execution_count": 13,
   "metadata": {
    "collapsed": false
   },
   "outputs": [
    {
     "name": "stdout",
     "output_type": "stream",
     "text": [
      "array('d', [-0.12362880259752274, 0.3386056423187256, -0.05198248103260994, -0.053988974541425705, 0.3720850646495819, 0.40340402722358704, -0.18809355795383453, -0.37115129828453064, -0.39677128195762634, -0.005402594804763794, 0.6166006922721863, -0.47819486260414124, 0.8201115727424622, 0.6075004935264587, 0.11704376339912415, 1.5614676475524902, 0.24599185585975647, 0.5857929587364197, -0.25336727499961853, -0.2535555362701416, 0.5496000051498413, 0.6936941146850586, -0.5321304202079773, 0.4159337282180786, -0.3149735927581787, -0.1478659212589264, -0.4978523254394531, 0.29492443799972534, -0.5457490086555481, 0.026110554113984108, -1.4289947748184204, 1.3125420808792114, 0.6412392258644104, 0.6195180416107178, -0.18011830747127533, -0.5842649340629578, -0.2692536413669586, -0.19549345970153809, 0.9430791139602661, -0.20924484729766846, 1.31484055519104, -0.2473936378955841, 0.37797924876213074, -0.4720618426799774, -0.686421811580658, 0.14603674411773682, 0.4873642921447754, 0.367656946182251, -0.34695547819137573, -0.2788638174533844])\n"
     ]
    },
    {
     "data": {
      "text/plain": [
       "[(567, 1.0000000000000002),\n",
       " (563, 0.75304166406621798),\n",
       " (685, 0.71801557440311381),\n",
       " (1376, 0.71462491264225225),\n",
       " (201, 0.70848338200709882),\n",
       " (781, 0.70091329017855053),\n",
       " (945, 0.69643413906109497),\n",
       " (1046, 0.68710312504518978),\n",
       " (670, 0.68448189415426175),\n",
       " (741, 0.67796929627869507)]"
      ]
     },
     "execution_count": 13,
     "metadata": {},
     "output_type": "execute_result"
    }
   ],
   "source": [
    "itemId = 567\n",
    "itemFactor = model.productFeatures().lookup(itemId)[0]\n",
    "print itemFactor\n",
    "\n",
    "#print model.productFeatures().collect()\n",
    "#print model.productFeatures().take(1)\n",
    "sims = model.productFeatures().map(lambda (id,factor):(id,cosineSImilarity(np.array(factor),\n",
    "             np.array(itemFactor))))\n",
    "\n",
    "sims.sortBy(lambda (x,y):y,ascending=False).take(10)"
   ]
  },
  {
   "cell_type": "code",
   "execution_count": 32,
   "metadata": {
    "collapsed": false
   },
   "outputs": [
    {
     "name": "stdout",
     "output_type": "stream",
     "text": [
      "[(2, array('d', [0.5532510876655579, 1.3408938646316528, -0.0009969864040613174, 0.15598875284194946, 0.015765467658638954, 1.25249183177948, 0.26990532875061035, -0.2956365644931793, 0.8075549006462097, -0.39656248688697815])), (4, array('d', [1.240945816040039, 0.5230079889297485, -0.8210291266441345, -1.2046180963516235, -0.46608495712280273, 0.8748364448547363, -0.403978168964386, -0.6052988767623901, -0.28171080350875854, -1.1605303287506104]))]\n"
     ]
    }
   ],
   "source": [
    "usersFeatures = model.userFeatures()\n",
    "print usersFeatures.take(2) "
   ]
  },
  {
   "cell_type": "code",
   "execution_count": 14,
   "metadata": {
    "collapsed": false
   },
   "outputs": [
    {
     "name": "stdout",
     "output_type": "stream",
     "text": [
      "用户789对电影1012的实际评级 4.0\n",
      "用户789对电影1012的预测评级 3.93902267122\n",
      "实际评级与预测评级的MSE 0.00371823462522\n"
     ]
    }
   ],
   "source": [
    "actual = moviesForUser[0][0]\n",
    "actualRating = actual.rating\n",
    "print '用户789对电影1012的实际评级',actualRating\n",
    "predictedRating = model.predict(789, actual.product)\n",
    "print '用户789对电影1012的预测评级',predictedRating\n",
    "squaredError = np.power(actualRating-predictedRating,2)\n",
    "print '实际评级与预测评级的MSE',squaredError"
   ]
  },
  {
   "cell_type": "code",
   "execution_count": 15,
   "metadata": {
    "collapsed": false
   },
   "outputs": [
    {
     "data": {
      "text/plain": [
       "[[Rating(user=789, product=1012, rating=4.0),\n",
       "  Rating(user=789, product=127, rating=5.0),\n",
       "  Rating(user=789, product=475, rating=5.0),\n",
       "  Rating(user=789, product=93, rating=4.0),\n",
       "  Rating(user=789, product=1161, rating=3.0),\n",
       "  Rating(user=789, product=286, rating=1.0),\n",
       "  Rating(user=789, product=293, rating=4.0),\n",
       "  Rating(user=789, product=9, rating=5.0),\n",
       "  Rating(user=789, product=50, rating=5.0),\n",
       "  Rating(user=789, product=294, rating=3.0),\n",
       "  Rating(user=789, product=181, rating=4.0),\n",
       "  Rating(user=789, product=1, rating=3.0),\n",
       "  Rating(user=789, product=1008, rating=4.0),\n",
       "  Rating(user=789, product=508, rating=4.0),\n",
       "  Rating(user=789, product=284, rating=3.0),\n",
       "  Rating(user=789, product=1017, rating=3.0),\n",
       "  Rating(user=789, product=137, rating=2.0),\n",
       "  Rating(user=789, product=111, rating=3.0),\n",
       "  Rating(user=789, product=742, rating=3.0),\n",
       "  Rating(user=789, product=248, rating=3.0),\n",
       "  Rating(user=789, product=249, rating=3.0),\n",
       "  Rating(user=789, product=1007, rating=4.0),\n",
       "  Rating(user=789, product=591, rating=3.0),\n",
       "  Rating(user=789, product=150, rating=5.0),\n",
       "  Rating(user=789, product=276, rating=5.0),\n",
       "  Rating(user=789, product=151, rating=2.0),\n",
       "  Rating(user=789, product=129, rating=5.0),\n",
       "  Rating(user=789, product=100, rating=5.0),\n",
       "  Rating(user=789, product=741, rating=5.0),\n",
       "  Rating(user=789, product=288, rating=3.0),\n",
       "  Rating(user=789, product=762, rating=3.0),\n",
       "  Rating(user=789, product=628, rating=3.0),\n",
       "  Rating(user=789, product=124, rating=4.0)]]"
      ]
     },
     "execution_count": 15,
     "metadata": {},
     "output_type": "execute_result"
    }
   ],
   "source": [
    "moviesForUser"
   ]
  },
  {
   "cell_type": "code",
   "execution_count": 16,
   "metadata": {
    "collapsed": false
   },
   "outputs": [
    {
     "name": "stdout",
     "output_type": "stream",
     "text": [
      "实际的评分: [(196, 242), (186, 302), (22, 377), (244, 51), (166, 346)]\n",
      "Rating(user=195, product=1084, rating=3.908824136441636)\n",
      "预测的评分: [((195, 1084), 3.908824136441636), ((58, 1084), 3.9570059102930157), ((541, 1084), 4.069377274374024), ((470, 1084), 2.9511299331553356), ((682, 1084), 2.0420265669668636)]\n",
      "组合预测的评分和实际的评分: [((621, 577), (3.0, 3.0573340695101994)), ((877, 727), (4.0, 3.931995198915532)), ((109, 365), (4.0, 3.9696760588648288)), ((254, 622), (4.0, 3.817703061427666)), ((720, 286), (5.0, 4.954397877466782))]\n",
      "模型的均方误差: 0.0830304803697\n",
      "模型的均方根误差: 0.288150100416\n"
     ]
    }
   ],
   "source": [
    "userProducts = ratings.map(lambda rating:(rating.user,rating.product))\n",
    "print '实际的评分:',userProducts.take(5)\n",
    "\n",
    "#预测所有用户对电影的相应评分\n",
    "print model.predictAll(userProducts).collect()[0]\n",
    "predictions = model.predictAll(userProducts).map(lambda rating:((rating.user,rating.product), rating.rating))\n",
    "print '预测的评分:',predictions.take(5)\n",
    "\n",
    "ratingsAndPredictions = ratings.map(lambda rating:((rating.user,rating.product),rating.rating)).join(predictions)\n",
    "print '组合预测的评分和实际的评分:',ratingsAndPredictions.take(5)\n",
    "\n",
    "MSE = ratingsAndPredictions.map(lambda ((x,y),(m,n)):np.power(m-n,2)).reduce(lambda x,y:x+y)/ratingsAndPredictions.count() \n",
    "print '模型的均方误差:',MSE \n",
    "print '模型的均方根误差:',np.sqrt(MSE)"
   ]
  },
  {
   "cell_type": "code",
   "execution_count": 17,
   "metadata": {
    "collapsed": false
   },
   "outputs": [],
   "source": [
    "def avgPrecisionK(actual, predicted, k): \n",
    "    if len(predicted) > k:\n",
    "        predK = predicted[:k]\n",
    "    else:\n",
    "        predK = predicted\n",
    "    score = 0.0\n",
    "    numHits = 0.0\n",
    "    for i,p in enumerate(predK):\n",
    "        if p in actual and p not in predK:\n",
    "            numHits = numHits + 1\n",
    "            score = score + numHits/(i+1)\n",
    "    if not actual:\n",
    "        return 1.0\n",
    "    else:\n",
    "        return score/min(len(actual),k)"
   ]
  },
  {
   "cell_type": "code",
   "execution_count": 18,
   "metadata": {
    "collapsed": false
   },
   "outputs": [
    {
     "name": "stdout",
     "output_type": "stream",
     "text": [
      "实际的电影： [1012, 127, 475, 93, 1161, 286, 293, 9, 50, 294, 181, 1, 1008, 508, 284, 1017, 137, 111, 742, 248, 249, 1007, 591, 150, 276, 151, 129, 100, 741, 288, 762, 628, 124]\n",
      "预测的电影： [172, 346, 185, 192, 182, 176, 127, 475, 276, 129]\n"
     ]
    }
   ],
   "source": [
    "actualMovies = [rating.product for rating in moviesForUser[0]]\n",
    "predictMovies = [rating.product for rating in topKRecs]\n",
    "print '实际的电影：',actualMovies\n",
    "print '预测的电影：',predictMovies"
   ]
  },
  {
   "cell_type": "code",
   "execution_count": 19,
   "metadata": {
    "collapsed": false
   },
   "outputs": [
    {
     "name": "stdout",
     "output_type": "stream",
     "text": [
      "0.0\n"
     ]
    }
   ],
   "source": [
    "MAP10 = avgPrecisionK(actualMovies,predictMovies,10)\n",
    "print MAP10"
   ]
  },
  {
   "cell_type": "code",
   "execution_count": 20,
   "metadata": {
    "collapsed": false
   },
   "outputs": [
    {
     "name": "stdout",
     "output_type": "stream",
     "text": [
      "[[ 0.03003818  0.61005521  0.19261409 ..., -0.90471607 -0.61920935\n",
      "  -0.22159728]\n",
      " [ 0.084612    0.30667374  0.33825687 ..., -0.33154243  0.03173169\n",
      "   0.0391243 ]\n",
      " [ 0.06009899  0.84202212 -0.05745131 ..., -0.08486437 -0.45201391\n",
      "   0.35717988]\n",
      " ..., \n",
      " [ 0.1275907  -0.01938788  0.02511401 ..., -0.10829373 -0.0651757\n",
      "  -0.01354955]\n",
      " [-0.01374614 -0.09747539  0.01012929 ..., -0.08876308 -0.1251747\n",
      "   0.03300911]\n",
      " [ 0.10422719  0.15160774  0.19717528 ..., -0.27291617  0.0303707\n",
      "  -0.02773944]]\n",
      "(1682, 50)\n"
     ]
    }
   ],
   "source": [
    "itemFactors = model.productFeatures().map(lambda (id,factor):factor).collect()\n",
    "itemMatrix = np.array(itemFactors)\n",
    "print itemMatrix\n",
    "print itemMatrix.shape"
   ]
  },
  {
   "cell_type": "code",
   "execution_count": 21,
   "metadata": {
    "collapsed": true
   },
   "outputs": [],
   "source": [
    "#便于后面进行map计算的时候使所有map都有效，这里在实际当中的意思是把数据广播到任何一个节点\n",
    "imBroadcast = sc.broadcast(itemMatrix)"
   ]
  },
  {
   "cell_type": "code",
   "execution_count": 22,
   "metadata": {
    "collapsed": false
   },
   "outputs": [
    {
     "data": {
      "text/plain": [
       "943"
      ]
     },
     "execution_count": 22,
     "metadata": {},
     "output_type": "execute_result"
    }
   ],
   "source": [
    "userVector = model.userFeatures().map(lambda (userId,array):(userId,np.array(array)))\n",
    "#print userVector.collect()[0][1].shape\n",
    "userVector = userVector.map(lambda (userId,x): (userId,imBroadcast.value.dot((np.array(x).transpose()))))\n",
    "#print userVector.collect()[0][1].shape\n",
    "userVectorId = userVector.map(lambda (userId,x) : (userId,[(xx,i) for i,xx in enumerate(x.tolist())]))\n",
    "#print userVectorId.collect()[0]\n",
    "sortUserVectorId = userVectorId.map(lambda (userId,x):(userId,sorted(x,key=lambda x:x[0],reverse=True)))\n",
    "sortUserVectorRecId = sortUserVectorId.map(lambda (userId,x): (userId,[xx[1] for xx in x]))\n",
    "#print sortUserVectorRecId.take(2)\n",
    "sortUserVectorRecId.count()"
   ]
  },
  {
   "cell_type": "code",
   "execution_count": 23,
   "metadata": {
    "collapsed": false
   },
   "outputs": [
    {
     "name": "stdout",
     "output_type": "stream",
     "text": [
      "[(1, <pyspark.resultiterable.ResultIterable object at 0x7fe558835f90>), (2, <pyspark.resultiterable.ResultIterable object at 0x7fe5588350d0>), (3, <pyspark.resultiterable.ResultIterable object at 0x7fe559d4d3d0>)]\n",
      "0.0\n"
     ]
    }
   ],
   "source": [
    "userMovies = ratings.map(lambda rating: (rating.user,rating.product)).groupBy(lambda (x,y):x)\n",
    "print userMovies.take(3)\n",
    "userMovies = userMovies.map(lambda (userId,x):(userId, [xx[1] for xx in x] ))\n",
    "#print userMovies.take(1)\n",
    "#allAPK=sortUserVectorRecId.join(userMovies).map(lambda (userId,(predicted, actual)):(userId,avgPrecisionK(actual,predicted,10)))\n",
    "#print allAPK.map(lambda (x,y):y).reduce(lambda x,y:x+y)/sortUserVectorRecId.count()\n",
    "allAPK=sortUserVectorRecId.join(userMovies).map(lambda (userId,(predicted, actual)):avgPrecisionK(actual,predicted,2000))\n",
    "# print allAPK.take(10)\n",
    "print allAPK.reduce(lambda x,y:x+y)/allAPK.count()"
   ]
  },
  {
   "cell_type": "code",
   "execution_count": 24,
   "metadata": {
    "collapsed": false,
    "scrolled": true
   },
   "outputs": [
    {
     "name": "stdout",
     "output_type": "stream",
     "text": [
      "[(3.0, 3.0573340695101994), (4.0, 3.931995198915532), (4.0, 3.9696760588648288), (4.0, 3.817703061427666), (5.0, 4.954397877466782)]\n",
      "均方误差 = 0.083030\n",
      "均方根误差 = 0.288150\n"
     ]
    }
   ],
   "source": [
    "from pyspark.mllib.evaluation import RegressionMetrics\n",
    "from pyspark.mllib.evaluation import RankingMetrics\n",
    "predictedAndTrue = ratingsAndPredictions.map(lambda ((userId,product),(predicted, actual))\n",
    "      :(predicted,actual))\n",
    "print predictedAndTrue.take(5)\n",
    "regressionMetrics = RegressionMetrics(predictedAndTrue)\n",
    "print \"均方误差 = %f\"%regressionMetrics.meanSquaredError\n",
    "print \"均方根误差 = %f\"% regressionMetrics.rootMeanSquaredError"
   ]
  },
  {
   "cell_type": "code",
   "execution_count": 25,
   "metadata": {
    "collapsed": false
   },
   "outputs": [
    {
     "name": "stdout",
     "output_type": "stream",
     "text": [
      "Mean Average Precision = 0.117916\n",
      "Mean Average Precision(at K=10) = 0.138812\n"
     ]
    }
   ],
   "source": [
    "sortedLabels = sortUserVectorRecId.join(userMovies).map(lambda (userId,(predicted, actual)):(predicted,actual))\n",
    "# print sortedLabels.take(1)\n",
    "rankMetrics = RankingMetrics(sortedLabels)\n",
    "print \"Mean Average Precision = %f\" % rankMetrics.meanAveragePrecision\n",
    "print \"Mean Average Precision(at K=10) = %f\" % rankMetrics.precisionAt(10)"
   ]
  },
  {
   "cell_type": "code",
   "execution_count": null,
   "metadata": {
    "collapsed": true
   },
   "outputs": [],
   "source": []
  },
  {
   "cell_type": "code",
   "execution_count": null,
   "metadata": {
    "collapsed": true
   },
   "outputs": [],
   "source": []
  },
  {
   "cell_type": "code",
   "execution_count": null,
   "metadata": {
    "collapsed": true
   },
   "outputs": [],
   "source": []
  },
  {
   "cell_type": "code",
   "execution_count": null,
   "metadata": {
    "collapsed": true
   },
   "outputs": [],
   "source": []
  },
  {
   "cell_type": "markdown",
   "metadata": {
    "collapsed": true
   },
   "source": []
  }
 ],
 "metadata": {
  "kernelspec": {
   "display_name": "Python 2",
   "language": "python",
   "name": "python2"
  },
  "language_info": {
   "codemirror_mode": {
    "name": "ipython",
    "version": 2
   },
   "file_extension": ".py",
   "mimetype": "text/x-python",
   "name": "python",
   "nbconvert_exporter": "python",
   "pygments_lexer": "ipython2",
   "version": "2.7.11"
  }
 },
 "nbformat": 4,
 "nbformat_minor": 0
}
